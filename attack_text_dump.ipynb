{
 "cells": [
  {
   "cell_type": "markdown",
   "metadata": {},
   "source": [
    "# ポケモンごとに覚える技の本文テキストを生成する"
   ]
  },
  {
   "cell_type": "markdown",
   "metadata": {},
   "source": [
    "## 準備"
   ]
  },
  {
   "cell_type": "code",
   "execution_count": 2,
   "metadata": {},
   "outputs": [],
   "source": [
    "import pickle\n",
    "import pandas as pd"
   ]
  },
  {
   "cell_type": "code",
   "execution_count": 3,
   "metadata": {},
   "outputs": [],
   "source": [
    "# 全ポケモンのURL一覧\n",
    "url_list = pickle.load(open('./all_gen_pokemon_urls.pkl', 'rb'))\n",
    "# タイプ データフレーム\n",
    "df_type = pd.read_csv('./type.csv')\n",
    "# アタックデックス データフレーム\n",
    "df_attackdex = pd.read_csv('./attackdex.csv')\n",
    "# たまごグループ名\n",
    "egg_groups_name = pickle.load(open('./egg_groups_name.pkl', 'rb'))\n",
    "# 持ち物 データフレーム\n",
    "df_holditem = pd.read_csv('./holditemdex.csv')\n",
    "# 特性 データフレーム\n",
    "df_abilirydex = pd.read_csv('./abilirydex.csv')"
   ]
  },
  {
   "cell_type": "code",
   "execution_count": 4,
   "metadata": {},
   "outputs": [],
   "source": [
    "# 関数定義：レベル技のレベル値を変換する関数\n",
    "def level_val(level):\n",
    "    if level == '—':\n",
    "        return '基本'\n",
    "    elif level == 'Evolve':\n",
    "        return '進化時'\n",
    "        \n",
    "    return level"
   ]
  },
  {
   "cell_type": "code",
   "execution_count": 5,
   "metadata": {},
   "outputs": [],
   "source": [
    "from pymongo import MongoClient\n",
    "client = MongoClient()\n",
    "db = client['pokemon']"
   ]
  },
  {
   "cell_type": "code",
   "execution_count": 6,
   "metadata": {},
   "outputs": [],
   "source": [
    "# 出現ポケモンリスト\n",
    "pokemon_list = ['ナエトル', 'ハヤシガメ', 'ドダイトス', 'ヒコザル', 'モウカザル', 'ゴウカザル', 'ポッチャマ', 'ポッタイシ', 'エンペルト', 'ムックル', 'ムクバード', 'ムクホーク', 'ビッパ', 'ビーダル', 'コロボーシ', 'コロトック', 'コリンク', 'ルクシオ', 'レントラー', 'ケーシィ', 'ユンゲラー', 'フーディン', 'コイキング', 'ギャラドス', 'スボミー', 'ロゼリア', 'ロズレイド', 'ズバット', 'ゴルバット', 'クロバット', 'イシツブテ', 'ゴローン', 'ゴローニャ', 'イワーク', 'ハガネール', 'ズガイドス', 'ラムパルド', 'タテトプス', 'トリデプス', 'ワンリキー', 'ゴーリキー', 'カイリキー', 'コダック', 'ゴルダック', 'ミノムッチ', 'ミノマダム', 'ガーメイル', 'ケムッソ', 'カラサリス', 'アゲハント', 'マユルド', 'ドクケイル', 'ミツハニー', 'ビークイン', 'パチリス', 'ブイゼル', 'フローゼル', 'チェリンボ', 'チェリム', 'カラナクシ', 'トリトドン', 'ヘラクロス', 'エイパム', 'エテボース', 'フワンテ', 'フワライド', 'ミミロル', 'ミミロップ', 'ゴース', 'ゴースト', 'ゲンガー', 'ムウマ', 'ムウマージ', 'ヤミカラス', 'ドンカラス', 'ニャルマー', 'ブニャット', 'トサキント', 'アズマオウ', 'ドジョッチ', 'ナマズン', 'リーシャン', 'チリーン', 'スカンプー', 'スカタンク', 'アサナン', 'チャーレム', 'ドーミラー', 'ドータクン', 'ポニータ', 'ギャロップ', 'ウソハチ', 'ウソッキー', 'マネネ', 'バリヤード', 'ピンプク', 'ラッキー', 'ハピナス', 'ピィ', 'ピッピ', 'ピクシー', 'ペラップ', 'ピチュー', 'ピカチュウ', 'ライチュウ', 'ホーホー', 'ヨルノズク', 'ミカルゲ', 'フカマル', 'ガバイト', 'ガブリアス', 'ゴンベ', 'カビゴン', 'アンノーン', 'リオル', 'ルカリオ', 'ウパー', 'ヌオー', 'キャモメ', 'ペリッパー', 'キリンリキ', 'ヒポポタス', 'カバルドン', 'ルリリ', 'マリル', 'マリルリ', 'スコルピ', 'ドラピオン', 'グレッグル', 'ドクロッグ', 'マスキッパ', 'テッポウオ', 'オクタン', 'ケイコウオ', 'ネオラント', 'メノクラゲ', 'ドククラゲ', 'ヒンバス', 'ミロカロス', 'タマンタ', 'マンタイン', 'ユキカブリ', 'ユキノオー', 'ニューラ', 'マニューラ', 'ユクシー', 'エムリット', 'アグノム', 'ディアルガ', 'パルキア', 'マナフィ', 'ロトム', 'グライガー', 'グライオン', 'ノズパス', 'ダイノーズ', 'ラルトス', 'キルリア', 'サーナイト', 'エルレイド', 'イーブイ', 'シャワーズ', 'サンダース', 'ブースター', 'エーフィ', 'ブラッキー', 'リーフィア', 'グレイシア', 'トゲピー', 'トゲチック', 'トゲキッス', 'コイル', 'レアコイル', 'ジバコイル', 'モンジャラ', 'モジャンボ', 'ヤンヤンマ', 'メガヤンマ', 'サイホーン', 'サイドン', 'ドサイドン', 'ストライク', 'ハッサム', 'エレキッド', 'エレブー', 'エレキブル', 'ブビィ', 'ブーバー', 'ブーバーン', 'ウリムー', 'イノムー', 'マンムー', 'ユキワラシ', 'オニゴーリ', 'ユキメノコ', 'ギラティナ', 'キャタピー', 'ロコン', 'キュウコン', 'ガーディ', 'ウインディ', 'ビリリダマ', 'マルマイン', 'ヒメグマ', 'リングマ', 'オドシシ', 'タマザラシ', 'トドグラー', 'トドゼルガ', 'ヒードラン', 'クレセリア', 'パラス', 'パラセクト', 'ベロリンガ', 'ベロベルト', 'ポリゴン', 'ポリゴン２', 'ポリゴンＺ', 'ヨマワル', 'サマヨール', 'ヨノワール', 'レジギガス', 'フィオネ', 'チュリネ', 'ドレディア', 'トルネロス', 'ボルトロス', 'ランドロス', 'ニンフィア', 'カチコール', 'クレベース', 'ヌメラ', 'ヌメイル', 'ヌメルゴン', 'ヒノアラシ', 'マグマラシ', 'バクフーン', 'ダークライ', 'シェイミ', 'アルセウス', 'ミジュマル', 'フタチマル', 'ダイケンキ', 'バスラオ', 'ワシボン', 'モクロー', 'フクスロー', 'ジュナイパー']"
   ]
  },
  {
   "cell_type": "code",
   "execution_count": null,
   "metadata": {},
   "outputs": [],
   "source": []
  },
  {
   "cell_type": "markdown",
   "metadata": {},
   "source": [
    "## 実行"
   ]
  },
  {
   "cell_type": "code",
   "execution_count": 37,
   "metadata": {},
   "outputs": [
    {
     "name": "stdout",
     "output_type": "stream",
     "text": [
      "ボルトロス\n",
      "**レベルで覚える技\n",
      "|FILTER:T:100%13%CENTER:|32%CENTER|20%CENTER|CENTER:|CENTER:|c\n",
      "|Lv|技名|タイプ|分類|威力|h\n",
      "|基本|おどろかす|ゴースト|ぶつり|30|\n",
      "|基本|でんきショック|でんき|とくしゅ|40|\n",
      "|5|にらみつける|ノーマル|へんか|0|\n",
      "|10|いばる|ノーマル|へんか|0|\n",
      "|15|かみつく|あく|ぶつり|60|\n",
      "|20|でんげきは|でんき|とくしゅ|60|\n",
      "|25|こうそくいどう|エスパー|へんか|0|\n",
      "|30|じゅうでん|でんき|へんか|0|\n",
      "|35|ボルトチェンジ|でんき|とくしゅ|70|\n",
      "|40|かみくだく|あく|ぶつり|80|\n",
      "|45|ほうでん|でんき|とくしゅ|80|\n",
      "|50|さわぐ|ノーマル|とくしゅ|90|\n",
      "|55|アームハンマー|かくとう|ぶつり|100|\n",
      "|60|あまごい|みず|へんか|0|\n",
      "|65|かみなり|でんき|とくしゅ|110|\n",
      "|70|あばれる|ノーマル|ぶつり|120|\n",
      "**技マシンで覚える技\n",
      "|FILTER:T:100%13%CENTER:|32%CENTER|20%CENTER|CENTER:|CENTER:|c\n",
      "|No|技名|タイプ|分類|威力|h\n",
      "|05|かみなりパンチ|でんき|ぶつり|75|\n",
      "|06|そらをとぶ|ひこう|ぶつり|90|\n",
      "|08|はかいこうせん|ノーマル|とくしゅ|150|\n",
      "|09|ギガインパクト|ノーマル|ぶつり|150|\n",
      "|14|でんじは|でんき|へんか|0|\n",
      "|21|ねむる|エスパー|へんか|0|\n",
      "|23|どろぼう|あく|ぶつり|60|\n",
      "|24|いびき|ノーマル|とくしゅ|50|\n",
      "|25|まもる|ノーマル|へんか|0|\n",
      "|26|こわいかお|ノーマル|へんか|0|\n",
      "|31|メロメロ|ノーマル|へんか|0|\n",
      "|33|あまごい|みず|へんか|0|\n",
      "|39|からげんき|ノーマル|ぶつり|70|\n",
      "|42|リベンジ|かくとう|ぶつり|60|\n",
      "|43|かわらわり|かくとう|ぶつり|75|\n",
      "|46|ウェザーボール|ノーマル|とくしゅ|50|\n",
      "|56|とんぼがえり|むし|ぶつり|70|\n",
      "|57|しっぺがえし|あく|ぶつり|50|\n",
      "|58|ダメおし|あく|ぶつり|60|\n",
      "|59|なげつける|あく|ぶつり|1|\n",
      "|76|りんしょう|ノーマル|とくしゅ|60|\n",
      "|80|ボルトチェンジ|でんき|とくしゅ|70|\n",
      "|82|エレキネット|でんき|とくしゅ|55|\n",
      "|93|かいでんぱ|でんき|へんか|0|\n",
      "|96|スマートホーン|はがね|ぶつり|70|\n",
      "|97|ぶんまわす|あく|ぶつり|60|\n"
     ]
    }
   ],
   "source": [
    "for pokemon in pokemon_list[-22:-21]:\n",
    "    # print(pokemon)\n",
    "\n",
    "    data = db.all_gen_pokedex.find_one({\"Japanese_name\": pokemon})\n",
    "    # print(data)\n",
    "\n",
    "    level_up_text_list = []\n",
    "    if 'Standard_Level_Up' in data.keys():\n",
    "        for attack in data['Standard_Level_Up']:\n",
    "            s_attackdex = df_attackdex[df_attackdex['Japanese_name'] == attack['Japanese_name']]\n",
    "            level = level_val(attack['Level'])\n",
    "            name = attack['Japanese_name']\n",
    "            type_val = s_attackdex['Type'].values[0]\n",
    "            category = s_attackdex['Category'].values[0]\n",
    "            power = s_attackdex['Power'].values[0]\n",
    "            level_up_text_list.append(f'|{level}|{name}|{type_val}|{category}|{power}|')\n",
    "    \n",
    "        # print('**レベルで覚える技')\n",
    "        # print('|FILTER:T:100%13%CENTER:|32%CENTER|20%CENTER|CENTER:|CENTER:|c')\n",
    "        # print('|Lv|技名|タイプ|分類|威力|h')\n",
    "        # print('\\n'.join(level_up_text_list))\n",
    "        with open(f'./pokemon/{pokemon}.txt', 'a') as f:\n",
    "            f.write('**レベルで覚える技\\n')\n",
    "            f.write('|FILTER:T:100%13%CENTER:|32%CENTER|20%CENTER|CENTER:|CENTER:|c\\n')\n",
    "            f.write('|Lv|技名|タイプ|分類|威力|h\\n')\n",
    "            f.write('\\n'.join(level_up_text_list))\n",
    "            f.write('\\n')\n",
    "\n",
    "    for tech_atk in [key for key in data.keys() if 'Technical_Machine_Attacks' in key]:\n",
    "        tech_machine_text_list = []\n",
    "        for attack in data[tech_atk]:\n",
    "            s_attackdex = df_attackdex[df_attackdex['Japanese_name'] == attack['Japanese_name']]\n",
    "            no = attack['No']\n",
    "            name = attack['Japanese_name']\n",
    "            type_val = s_attackdex['Type'].values[0]\n",
    "            category = s_attackdex['Category'].values[0]\n",
    "            power = s_attackdex['Power'].values[0]\n",
    "            tech_machine_text_list.append(f'|{no}|{name}|{type_val}|{category}|{power}|')\n",
    "        tech_h = ''\n",
    "        if tech_atk.replace(\"Technical_Machine_Attacks\", \"\").replace(\"_\", \"\"):\n",
    "            tech_h = f'（{tech_atk.replace(\"_Technical_Machine_Attacks\", \"\").replace(\"_\", \"\")}）'\n",
    "\n",
    "        # print(f'**技マシンで覚える技{tech_h}')\n",
    "        # print('|FILTER:T:100%13%CENTER:|32%CENTER|20%CENTER|CENTER:|CENTER:|c')\n",
    "        # print('|No|技名|タイプ|分類|威力|h')\n",
    "        # print('\\n'.join(tech_machine_text_list))\n",
    "        with open(f'./pokemon/{pokemon}.txt', 'a') as f:\n",
    "            f.write(f'**技マシンで覚える技{tech_h}\\n')\n",
    "            f.write('|FILTER:T:100%13%CENTER:|32%CENTER|20%CENTER|CENTER:|CENTER:|c\\n')\n",
    "            f.write('|No|技名|タイプ|分類|威力|h\\n')\n",
    "            f.write('\\n'.join(tech_machine_text_list))\n",
    "            f.write('\\n')\n",
    "\n",
    "    egg_text_list = []\n",
    "    if 'Egg_Moves' in data.keys():\n",
    "        for attack in data['Egg_Moves']:\n",
    "            s_attackdex = df_attackdex[df_attackdex['Japanese_name'] == attack['Japanese_name']]\n",
    "            name = attack['Japanese_name']\n",
    "            type_val = s_attackdex['Type'].values[0]\n",
    "            category = s_attackdex['Category'].values[0]\n",
    "            power = s_attackdex['Power'].values[0]\n",
    "            egg_text_list.append(f'|{name}|{type_val}|{category}|{power}|')\n",
    "\n",
    "        # print('**たまご技')\n",
    "        # print('|FILTER:T:100%35%CENTER|22%CENTER|20%CENTER:|62%CENTER:|c')\n",
    "        # print('|技名|タイプ|分類|威力|h')\n",
    "        # print('\\n'.join(egg_text_list))\n",
    "        with open(f'./pokemon/{pokemon}.txt', 'a') as f:\n",
    "            f.write('**たまご技\\n')\n",
    "            f.write('|FILTER:T:100%35%CENTER|22%CENTER|20%CENTER:|62%CENTER:|c\\n')\n",
    "            f.write('|技名|タイプ|分類|威力|h\\n')\n",
    "            f.write('\\n'.join(egg_text_list))\n"
   ]
  },
  {
   "cell_type": "code",
   "execution_count": null,
   "metadata": {},
   "outputs": [],
   "source": []
  },
  {
   "cell_type": "code",
   "execution_count": 30,
   "metadata": {},
   "outputs": [],
   "source": [
    "test_data = db.all_gen_pokedex.find_one({\"Japanese_name\": 'ヌメラ'})"
   ]
  },
  {
   "cell_type": "code",
   "execution_count": null,
   "metadata": {},
   "outputs": [],
   "source": []
  }
 ],
 "metadata": {
  "interpreter": {
   "hash": "793c56368b4dd070e0941bd8d7fd7d9bf556cf621321468988dc402a5229e9d4"
  },
  "kernelspec": {
   "display_name": "Python 3.8.10 64-bit ('NLB_v1': conda)",
   "language": "python",
   "name": "python3"
  },
  "language_info": {
   "codemirror_mode": {
    "name": "ipython",
    "version": 3
   },
   "file_extension": ".py",
   "mimetype": "text/x-python",
   "name": "python",
   "nbconvert_exporter": "python",
   "pygments_lexer": "ipython3",
   "version": "3.8.10"
  },
  "orig_nbformat": 4
 },
 "nbformat": 4,
 "nbformat_minor": 2
}
