{
 "cells": [
  {
   "cell_type": "markdown",
   "metadata": {},
   "source": [
    "# ポケモンごとに覚える技の本文テキストを生成する"
   ]
  },
  {
   "cell_type": "markdown",
   "metadata": {},
   "source": [
    "## 準備"
   ]
  },
  {
   "cell_type": "code",
   "execution_count": 2,
   "metadata": {},
   "outputs": [],
   "source": [
    "import pickle\n",
    "import pandas as pd"
   ]
  },
  {
   "cell_type": "code",
   "execution_count": 3,
   "metadata": {},
   "outputs": [],
   "source": [
    "# 全ポケモンのURL一覧\n",
    "url_list = pickle.load(open('./all_gen_pokemon_urls.pkl', 'rb'))\n",
    "# タイプ データフレーム\n",
    "df_type = pd.read_csv('./type.csv')\n",
    "# アタックデックス データフレーム\n",
    "df_attackdex = pd.read_csv('./attackdex.csv')\n",
    "# たまごグループ名\n",
    "egg_groups_name = pickle.load(open('./egg_groups_name.pkl', 'rb'))\n",
    "# 持ち物 データフレーム\n",
    "df_holditem = pd.read_csv('./holditemdex.csv')\n",
    "# 特性 データフレーム\n",
    "df_abilirydex = pd.read_csv('./abilirydex.csv')"
   ]
  },
  {
   "cell_type": "code",
   "execution_count": 4,
   "metadata": {},
   "outputs": [],
   "source": [
    "# 関数定義：レベル技のレベル値を変換する関数\n",
    "def level_val(level):\n",
    "    if level == '—':\n",
    "        return '基本'\n",
    "    elif level == 'Evolve':\n",
    "        return '進化時'\n",
    "        \n",
    "    return level"
   ]
  },
  {
   "cell_type": "code",
   "execution_count": 5,
   "metadata": {},
   "outputs": [],
   "source": [
    "from pymongo import MongoClient\n",
    "client = MongoClient()\n",
    "db = client['pokemon']"
   ]
  },
  {
   "cell_type": "markdown",
   "metadata": {},
   "source": [
    "## 実行（レジェンズ）"
   ]
  },
  {
   "cell_type": "code",
   "execution_count": 25,
   "metadata": {},
   "outputs": [],
   "source": [
    "for data in db.all_gen_pokedex.find():\n",
    "  \n",
    "  if not [key for key in data.keys() if 'legendsattacks' in key]:\n",
    "    continue\n",
    "  else:\n",
    "    # レベル技\n",
    "    level_up_text_list = []\n",
    "    for attack in data[[key for key in data.keys() if 'legendsattacks' in key][0]]:\n",
    "      level = level_val(attack['Level'])\n",
    "      if len(df_attackdex[df_attackdex['English_name'].str.lower() == attack['English_name'].lower()]):\n",
    "        s_attackdex = df_attackdex[df_attackdex['English_name'].str.lower() == attack['English_name'].lower()]\n",
    "        name = s_attackdex['Japanese_name'].values[0]\n",
    "        type_val = s_attackdex['Type'].values[0]\n",
    "        category = s_attackdex['Category'].values[0]\n",
    "        power = s_attackdex['Power'].values[0]\n",
    "      else:\n",
    "        name = attack['English_name']\n",
    "        type_val = ''\n",
    "        category = ''\n",
    "        power = ''\n",
    "      level_up_text_list.append(f'|{level}|{name}|{type_val}|{category}|{power}|')\n",
    "      \n",
    "    # print('**レベルで覚える技')\n",
    "    # print('|FILTER:T:100%13%CENTER:|32%CENTER|20%CENTER|CENTER:|CENTER:|c')\n",
    "    # print('|Lv|技名|タイプ|分類|威力|h')\n",
    "    # print('\\n'.join(level_up_text_list))\n",
    "\n",
    "    with open(f'./pokemon/{data[\"Japanese_name\"]}.txt', 'a') as f:\n",
    "      f.write('**レベルで覚える技\\n')\n",
    "      f.write('|FILTER:T:100%13%CENTER:|32%CENTER|20%CENTER|CENTER:|CENTER:|c\\n')\n",
    "      f.write('|Lv|技名|タイプ|分類|威力|h\\n')\n",
    "      f.write('\\n'.join(level_up_text_list))\n",
    "      f.write('\\n')\n",
    "\n",
    "    # 訓練場の教え技\n",
    "    move_shop_text_list = []\n",
    "    if 'Move_Shop_Attacks' in data.keys():\n",
    "      for attack in data['Move_Shop_Attacks']:\n",
    "        if len(df_attackdex[df_attackdex['English_name'].str.lower() == attack['English_name'].lower()]):\n",
    "          s_attackdex = df_attackdex[df_attackdex['English_name'].str.lower() == attack['English_name'].lower()]\n",
    "          name = s_attackdex['Japanese_name'].values[0]\n",
    "          type_val = s_attackdex['Type'].values[0]\n",
    "          category = s_attackdex['Category'].values[0]\n",
    "          power = s_attackdex['Power'].values[0]\n",
    "        else:\n",
    "          name = attack['English_name']\n",
    "          type_val = ''\n",
    "          category = ''\n",
    "          power = ''\n",
    "        move_shop_text_list.append(f'|{name}|{type_val}|{category}|{power}|')\n",
    "\n",
    "      # print('**訓練場の教え技')\n",
    "      # print('|FILTER:T:100%45%CENTER|20%CENTER|20%CENTER:|15%CENTER:|c')\n",
    "      # print('|技名|タイプ|分類|威力|h')\n",
    "      # print('\\n'.join(move_shop_text_list))\n",
    "\n",
    "      with open(f'./pokemon/{data[\"Japanese_name\"]}.txt', 'a') as f:\n",
    "        f.write('**訓練場の教え技\\n')\n",
    "        f.write('|FILTER:T:100%45%CENTER|20%CENTER|20%CENTER:|15%CENTER:|c\\n')\n",
    "        f.write('|技名|タイプ|分類|威力|h\\n')\n",
    "        f.write('\\n'.join(move_shop_text_list))\n",
    "      "
   ]
  },
  {
   "cell_type": "code",
   "execution_count": null,
   "metadata": {},
   "outputs": [],
   "source": []
  }
 ],
 "metadata": {
  "interpreter": {
   "hash": "793c56368b4dd070e0941bd8d7fd7d9bf556cf621321468988dc402a5229e9d4"
  },
  "kernelspec": {
   "display_name": "Python 3.8.10 64-bit ('NLB_v1': conda)",
   "language": "python",
   "name": "python3"
  },
  "language_info": {
   "codemirror_mode": {
    "name": "ipython",
    "version": 3
   },
   "file_extension": ".py",
   "mimetype": "text/x-python",
   "name": "python",
   "nbconvert_exporter": "python",
   "pygments_lexer": "ipython3",
   "version": "3.8.10"
  },
  "orig_nbformat": 4
 },
 "nbformat": 4,
 "nbformat_minor": 2
}
