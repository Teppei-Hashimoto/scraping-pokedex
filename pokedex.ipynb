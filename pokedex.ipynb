{
 "cells": [
  {
   "cell_type": "code",
   "execution_count": null,
   "metadata": {},
   "outputs": [],
   "source": [
    "import requests\n",
    "from bs4 import BeautifulSoup\n",
    "import pickle\n",
    "import pandas as pd"
   ]
  },
  {
   "cell_type": "code",
   "execution_count": null,
   "metadata": {},
   "outputs": [],
   "source": [
    "# ポケモン名一覧リスト\n",
    "pokemon_list = pickle.load(open('./pokedex_name_list.pkl', 'rb'))"
   ]
  },
  {
   "cell_type": "code",
   "execution_count": null,
   "metadata": {},
   "outputs": [],
   "source": [
    "# タイプ一覧データフレーム\n",
    "df_type = pd.read_csv('./type.csv')"
   ]
  },
  {
   "cell_type": "code",
   "execution_count": null,
   "metadata": {},
   "outputs": [],
   "source": [
    "# アタックデックスデータフレーム\n",
    "df_attackdex = pd.read_csv('./attackdex.csv')"
   ]
  },
  {
   "cell_type": "code",
   "execution_count": null,
   "metadata": {},
   "outputs": [],
   "source": [
    "# 関数定義：タイプリンクを含む要素を入力して、タイプ名を返す関数\n",
    "def type_func(elem):\n",
    "    type_link = elem['href'].split('/')[-1]\n",
    "    return df_type.query(f'link_text == \"{type_link}\"')['japanese'].values[0]"
   ]
  },
  {
   "cell_type": "code",
   "execution_count": null,
   "metadata": {},
   "outputs": [],
   "source": []
  },
  {
   "cell_type": "code",
   "execution_count": null,
   "metadata": {},
   "outputs": [],
   "source": [
    "# MongoDBに接続するオブジェクトの生成 < DB名: pokemon / Collection名: pokedex >\n",
    "from pymongo import MongoClient\n",
    "client = MongoClient()\n",
    "db = client['pokemon']"
   ]
  },
  {
   "cell_type": "code",
   "execution_count": null,
   "metadata": {},
   "outputs": [],
   "source": []
  },
  {
   "cell_type": "code",
   "execution_count": null,
   "metadata": {},
   "outputs": [],
   "source": [
    "# MongoDBに格納する処理（第4世代と剣盾には対応）\n",
    "# 処理を開始するとindexが493まで実行可能 ※ 対応できていない世代はURLの形式が異なる\n",
    "# 412ミノマダムと491シェイミでエラーが発生する（レイアウトが異なるため）、個別に対応する\n",
    "for pokemon in pokemon_list:\n",
    "    pokemon = pokemon.replace(' ', '')\n",
    "    if '♀' in pokemon:\n",
    "        pokemon_name = pokemon.replace('♀', 'f').lower()\n",
    "    elif '♂' in pokemon:\n",
    "        pokemon_name = pokemon.replace('♂', 'm').lower()\n",
    "    else:\n",
    "        pokemon_name = pokemon.lower()\n",
    "\n",
    "    url = f'https://www.serebii.net/pokedex-swsh/{pokemon_name}/'\n",
    "    res = requests.get(url)\n",
    "    soup = BeautifulSoup(res.text, 'html.parser')\n",
    "\n",
    "    item = {}\n",
    "    item['English_name'] = pokemon\n",
    "    item['Japanese_name'] = soup.select('table.dextable')[1].select('td.fooinfo')[1].select('td')[1].contents[-1]\n",
    "\n",
    "    item['Type'] = [type_func(elem) for elem in soup.select('table.dextable')[1].select('td.cen')[0].select('a')]\n",
    "    \n",
    "    for dextable_elem in soup.select('table.dextable'):\n",
    "        if dextable_elem.select('h3'):\n",
    "            # レベルアップで覚える技\n",
    "            if dextable_elem.select('h3')[0].text == 'Standard Level Up' or dextable_elem.select('h3')[0].text == 'Standard Level Up - Brilliant Diamond & Shining Pearl':\n",
    "                level_up_attacks = []\n",
    "                elem = dextable_elem.select('tr')\n",
    "                for i in range(2, len(elem), 2):\n",
    "                    attack = {}\n",
    "                    attack['Level'] = elem[i].select('td')[0].text\n",
    "                    attack['English_name'] = elem[i].select('td')[1].a.text\n",
    "                    attack['Japanese_name'] = df_attackdex[df_attackdex['English_name'] == elem[i].select('td')[1].a.text]['Japanese_name'].values[0]\n",
    "                    level_up_attacks.append(attack)\n",
    "                item['Level_up_attacks'] = level_up_attacks\n",
    "\n",
    "            # わざマシンで覚える技\n",
    "            elif dextable_elem.select('h3')[0].text == 'BDSP Technical Machine Attacks':\n",
    "                tech_machine_attacks = []\n",
    "                elem = dextable_elem.select('tr')\n",
    "                # for i in range(2, len(elem), 3): # 一部のポケモンはこちらのfor文を使用\n",
    "                for i in range(2, len(elem), 2):\n",
    "                    attack = {}\n",
    "                    attack['No'] = elem[i].select('td')[0].text[-2:]\n",
    "                    attack['English_name'] = elem[i].select('td')[1].a.text\n",
    "                    attack['Japanese_name'] = df_attackdex[df_attackdex['English_name'] == elem[i].select('td')[1].a.text]['Japanese_name'].values[0]\n",
    "                    tech_machine_attacks.append(attack)\n",
    "                item['Technical_machine_attacks'] = tech_machine_attacks\n",
    "\n",
    "            # タマゴ技\n",
    "            elif dextable_elem.select('h3')[0].text == 'Egg Moves':\n",
    "                egg_attacks = []\n",
    "                elem = dextable_elem.select('tr')\n",
    "                for i in range(2, len(elem), 2):\n",
    "                    attack = {}\n",
    "                    attack['English_name'] = elem[i].select('td')[0].a.contents[0]\n",
    "                    attack['Japanese_name'] = df_attackdex[df_attackdex['English_name'] == elem[i].select('td')[0].a.contents[0]]['Japanese_name'].values[0]\n",
    "                    egg_attacks.append(attack)\n",
    "                item['Egg_attacks'] = egg_attacks\n",
    "\n",
    "    # MongoDB へ保存 < DB名: pokemon / Collection名: pokedex >\n",
    "    db.pokedex.insert_one(item)"
   ]
  },
  {
   "cell_type": "code",
   "execution_count": null,
   "metadata": {},
   "outputs": [],
   "source": []
  },
  {
   "cell_type": "code",
   "execution_count": null,
   "metadata": {},
   "outputs": [],
   "source": []
  },
  {
   "cell_type": "code",
   "execution_count": null,
   "metadata": {},
   "outputs": [],
   "source": []
  }
 ],
 "metadata": {
  "language_info": {
   "name": "python"
  },
  "orig_nbformat": 4
 },
 "nbformat": 4,
 "nbformat_minor": 2
}
