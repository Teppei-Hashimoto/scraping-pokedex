{
 "cells": [
  {
   "cell_type": "markdown",
   "metadata": {},
   "source": [
    "# 全世代ポケモンの名前とURLの一覧を取得する"
   ]
  },
  {
   "cell_type": "code",
   "execution_count": 1,
   "metadata": {},
   "outputs": [],
   "source": [
    "import requests\n",
    "from bs4 import BeautifulSoup\n",
    "import pandas as pd\n",
    "import pickle"
   ]
  },
  {
   "cell_type": "code",
   "execution_count": 2,
   "metadata": {},
   "outputs": [],
   "source": [
    "url = 'https://www.serebii.net/pokemon/nationalpokedex.shtml'\n",
    "res = requests.get(url)\n",
    "soup = BeautifulSoup(res.text, 'html.parser')"
   ]
  },
  {
   "cell_type": "code",
   "execution_count": 3,
   "metadata": {},
   "outputs": [],
   "source": [
    "dextable = soup.select('table.dextable')[0].select('tr')"
   ]
  },
  {
   "cell_type": "code",
   "execution_count": 4,
   "metadata": {},
   "outputs": [],
   "source": [
    "# 初期化処理、全世代のポケモンのページURLリスト\n",
    "url_list = []"
   ]
  },
  {
   "cell_type": "code",
   "execution_count": 5,
   "metadata": {},
   "outputs": [],
   "source": [
    "for i in range(2, len(dextable), 2):\n",
    "# for i in range(1620, len(dextable), 2):\n",
    "# for i in range(1624, 1625, 2):\n",
    "    pokemon = {}\n",
    "    pokemon['No'] = dextable[i].select('td')[0].text.strip()\n",
    "    pokemon['English_name'] = dextable[i].select('td')[3].a.text.strip()\n",
    "    pokemon['Root_URL'] = dextable[i].select('td')[3].a.attrs['href']\n",
    "\n",
    "    url = f'https://www.serebii.net{pokemon[\"Root_URL\"]}'\n",
    "    res = requests.get(url)\n",
    "    soup = BeautifulSoup(res.text, 'html.parser')\n",
    "    \n",
    "    if i < 1620: # 第7世代以前\n",
    "        tmp_url = soup.select('table.dextab')[1].select('td')[0].a.attrs['href']\n",
    "        tmp_res = requests.get(f'https://www.serebii.net{tmp_url}')\n",
    "        tmp_soup = BeautifulSoup(tmp_res.text, 'html.parser')\n",
    "        gen_elems = tmp_soup.select('table.dextab')[1].select('td')\n",
    "        pokemon['Gen_URLs'] = [{'Gen': gen_item.text.strip(), 'URL': gen_item.a.attrs['href']} for gen_item in gen_elems]\n",
    "    else: # 第8世代以降\n",
    "        gen_elems = soup.select('.hubheader')[0]\n",
    "        pokemon['Gen_URLs'] = [{'Gen': gen_elems.text.strip(), 'URL': gen_elems.a.attrs['href']}]\n",
    "\n",
    "    url_list.append(pokemon)"
   ]
  },
  {
   "cell_type": "code",
   "execution_count": null,
   "metadata": {},
   "outputs": [],
   "source": [
    "# ファイルに出力\n",
    "pickle.dump(url_list, open('./all_gen_pokemon_urls.pkl', 'wb'))"
   ]
  }
 ],
 "metadata": {
  "interpreter": {
   "hash": "793c56368b4dd070e0941bd8d7fd7d9bf556cf621321468988dc402a5229e9d4"
  },
  "kernelspec": {
   "display_name": "Python 3.8.10 64-bit ('NLB_v1': conda)",
   "language": "python",
   "name": "python3"
  },
  "language_info": {
   "codemirror_mode": {
    "name": "ipython",
    "version": 3
   },
   "file_extension": ".py",
   "mimetype": "text/x-python",
   "name": "python",
   "nbconvert_exporter": "python",
   "pygments_lexer": "ipython3",
   "version": "3.8.10"
  },
  "orig_nbformat": 4
 },
 "nbformat": 4,
 "nbformat_minor": 2
}
