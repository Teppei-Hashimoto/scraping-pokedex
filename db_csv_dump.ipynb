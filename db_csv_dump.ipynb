{
 "cells": [
  {
   "cell_type": "markdown",
   "metadata": {},
   "source": [
    "# DBページ作成用CSVの作成"
   ]
  },
  {
   "cell_type": "markdown",
   "metadata": {},
   "source": [
    "## 準備"
   ]
  },
  {
   "cell_type": "code",
   "execution_count": 1,
   "metadata": {},
   "outputs": [],
   "source": [
    "import pandas as pd\n",
    "import pickle"
   ]
  },
  {
   "cell_type": "code",
   "execution_count": 2,
   "metadata": {},
   "outputs": [],
   "source": [
    "# # 全ポケモンのURL一覧\n",
    "# url_list = pickle.load(open('./all_gen_pokemon_urls.pkl', 'rb'))\n",
    "# # タイプ データフレーム\n",
    "# df_type = pd.read_csv('./type.csv')\n",
    "# # アタックデックス データフレーム\n",
    "# df_attackdex = pd.read_csv('./attackdex.csv')\n",
    "# # たまごグループ名\n",
    "# egg_groups_name = pickle.load(open('./egg_groups_name.pkl', 'rb'))\n",
    "# # 持ち物 データフレーム\n",
    "# df_holditem = pd.read_csv('./holditemdex.csv')\n",
    "# # 特性 データフレーム\n",
    "# df_abilirydex = pd.read_csv('./abilirydex.csv')"
   ]
  },
  {
   "cell_type": "code",
   "execution_count": 3,
   "metadata": {},
   "outputs": [],
   "source": [
    "from pymongo import MongoClient\n",
    "client = MongoClient()\n",
    "db = client['pokemon']"
   ]
  },
  {
   "cell_type": "code",
   "execution_count": 36,
   "metadata": {},
   "outputs": [],
   "source": [
    "# 出現ポケモンリスト\n",
    "pokemon_list = ['ナエトル', 'ハヤシガメ', 'ドダイトス', 'ヒコザル', 'モウカザル', 'ゴウカザル', 'ポッチャマ', 'ポッタイシ', 'エンペルト', 'ムックル', 'ムクバード', 'ムクホーク', 'ビッパ', 'ビーダル', 'コロボーシ', 'コロトック', 'コリンク', 'ルクシオ', 'レントラー', 'ケーシィ', 'ユンゲラー', 'フーディン', 'コイキング', 'ギャラドス', 'スボミー', 'ロゼリア', 'ロズレイド', 'ズバット', 'ゴルバット', 'クロバット', 'イシツブテ', 'ゴローン', 'ゴローニャ', 'イワーク', 'ハガネール', 'ズガイドス', 'ラムパルド', 'タテトプス', 'トリデプス', 'ワンリキー', 'ゴーリキー', 'カイリキー', 'コダック', 'ゴルダック', 'ミノムッチ', 'ミノマダム', 'ガーメイル', 'ケムッソ', 'カラサリス', 'アゲハント', 'マユルド', 'ドクケイル', 'ミツハニー', 'ビークイン', 'パチリス', 'ブイゼル', 'フローゼル', 'チェリンボ', 'チェリム', 'カラナクシ', 'トリトドン', 'ヘラクロス', 'エイパム', 'エテボース', 'フワンテ', 'フワライド', 'ミミロル', 'ミミロップ', 'ゴース', 'ゴースト', 'ゲンガー', 'ムウマ', 'ムウマージ', 'ヤミカラス', 'ドンカラス', 'ニャルマー', 'ブニャット', 'トサキント', 'アズマオウ', 'ドジョッチ', 'ナマズン', 'リーシャン', 'チリーン', 'スカンプー', 'スカタンク', 'アサナン', 'チャーレム', 'ドーミラー', 'ドータクン', 'ポニータ', 'ギャロップ', 'ウソハチ', 'ウソッキー', 'マネネ', 'バリヤード', 'ピンプク', 'ラッキー', 'ハピナス', 'ピィ', 'ピッピ', 'ピクシー', 'ペラップ', 'ピチュー', 'ピカチュウ', 'ライチュウ', 'ホーホー', 'ヨルノズク', 'ミカルゲ', 'フカマル', 'ガバイト', 'ガブリアス', 'ゴンベ', 'カビゴン', 'アンノーン', 'リオル', 'ルカリオ', 'ウパー', 'ヌオー', 'キャモメ', 'ペリッパー', 'キリンリキ', 'ヒポポタス', 'カバルドン', 'ルリリ', 'マリル', 'マリルリ', 'スコルピ', 'ドラピオン', 'グレッグル', 'ドクロッグ', 'マスキッパ', 'テッポウオ', 'オクタン', 'ケイコウオ', 'ネオラント', 'メノクラゲ', 'ドククラゲ', 'ヒンバス', 'ミロカロス', 'タマンタ', 'マンタイン', 'ユキカブリ', 'ユキノオー', 'ニューラ', 'マニューラ', 'ユクシー', 'エムリット', 'アグノム', 'ディアルガ', 'パルキア', 'マナフィ', 'ロトム', 'グライガー', 'グライオン', 'ノズパス', 'ダイノーズ', 'ラルトス', 'キルリア', 'サーナイト', 'エルレイド', 'イーブイ', 'シャワーズ', 'サンダース', 'ブースター', 'エーフィ', 'ブラッキー', 'リーフィア', 'グレイシア', 'トゲピー', 'トゲチック', 'トゲキッス', 'コイル', 'レアコイル', 'ジバコイル', 'モンジャラ', 'モジャンボ', 'ヤンヤンマ', 'メガヤンマ', 'サイホーン', 'サイドン', 'ドサイドン', 'ストライク', 'ハッサム', 'エレキッド', 'エレブー', 'エレキブル', 'ブビィ', 'ブーバー', 'ブーバーン', 'ウリムー', 'イノムー', 'マンムー', 'ユキワラシ', 'オニゴーリ', 'ユキメノコ', 'ギラティナ', 'キャタピー', 'ロコン', 'キュウコン', 'ガーディ', 'ウインディ', 'ビリリダマ', 'マルマイン', 'ヒメグマ', 'リングマ', 'オドシシ', 'タマザラシ', 'トドグラー', 'トドゼルガ', 'ヒードラン', 'クレセリア', 'パラス', 'パラセクト', 'ベロリンガ', 'ベロベルト', 'ポリゴン', 'ポリゴン２', 'ポリゴンＺ', 'ヨマワル', 'サマヨール', 'ヨノワール', 'レジギガス', 'フィオネ', 'チュリネ', 'ドレディア', 'トルネロス', 'ボルトロス', 'ランドロス', 'ニンフィア', 'カチコール', 'クレベース', 'ヌメラ', 'ヌメイル', 'ヌメルゴン', 'ヒノアラシ', 'マグマラシ', 'バクフーン', 'ダークライ', 'シェイミ', 'アルセウス', 'ミジュマル', 'フタチマル', 'ダイケンキ', 'バスラオ', 'ワシボン', 'モクロー', 'フクスロー', 'ジュナイパー']"
   ]
  },
  {
   "cell_type": "code",
   "execution_count": 37,
   "metadata": {},
   "outputs": [],
   "source": [
    "# データフレームの初期化\n",
    "df_db = pd.DataFrame(columns=['ポケモン名', '全体画像', 'グラフ画像', 'タイプ1', 'タイプ2', '分類', 'たまごグループ', 'HP', '攻撃', '防御', '特攻', '特防', '素早さ', '合計種族値', '特性1', '特性1詳細', '特性2', '特性2詳細', '隠れ特性', '隠れ特性詳細', '入手方法', '進化条件', '図鑑No', '全国図鑑No', '×4', '×2', '×0.5', '×0.25', '無効', '高さ', '重さ', '図鑑種類', '世代'])"
   ]
  },
  {
   "cell_type": "markdown",
   "metadata": {},
   "source": [
    "## 実行"
   ]
  },
  {
   "cell_type": "code",
   "execution_count": 38,
   "metadata": {},
   "outputs": [],
   "source": [
    "for pokemon in pokemon_list:\n",
    "    db_item = {}\n",
    "    \n",
    "    data = db.all_gen_pokedex.find_one({\"Japanese_name\": pokemon})\n",
    "\n",
    "    # ポケモン名\n",
    "    db_item['ポケモン名'] = pokemon\n",
    "\n",
    "    # タイプ\n",
    "    for i, type_val in enumerate(data[[key for key in data.keys() if 'Type' in key][0]]):\n",
    "        db_item[f'タイプ{i + 1}'] = type_val\n",
    "    \n",
    "    # たまごグループ\n",
    "    db_item['たまごグループ'] = '/'.join(data['Egg_groups'])\n",
    "\n",
    "    # 種族値\n",
    "    db_item['HP'] = data['Stats']['HP']\n",
    "    db_item['攻撃'] = data['Stats']['Attack']\n",
    "    db_item['防御'] = data['Stats']['Defense']\n",
    "    db_item['特攻'] = data['Stats']['Sp_Attack']\n",
    "    db_item['特防'] = data['Stats']['Sp_Defense']\n",
    "    db_item['素早さ'] = data['Stats']['Speed']\n",
    "    db_item['合計種族値'] = data['Stats']['Total']\n",
    "\n",
    "    # 特性\n",
    "    for i, ability in enumerate(data['Abilities']['Base_abilities']):\n",
    "        db_item[f'特性{i + 1}'] = ability\n",
    "\n",
    "    # 隠れ特性\n",
    "    if data['Abilities']['Hidden_ability']:\n",
    "        db_item['隠れ特性'] = data['Abilities']['Hidden_ability'][0]\n",
    "\n",
    "    # 全国図鑑No\n",
    "    db_item['全国図鑑No'] = data['No']\n",
    "\n",
    "    # タイプ相性\n",
    "    weak4 = []\n",
    "    weak2 = []\n",
    "    weak1 = []\n",
    "    weak05 = []\n",
    "    weak025 = []\n",
    "    weak0 = []\n",
    "    for key in data['Weakness'].keys():\n",
    "        if '4' == data['Weakness'][key]:\n",
    "            weak4.append(key)\n",
    "        elif '2' == data['Weakness'][key]:\n",
    "            weak2.append(key)\n",
    "        elif '1' == data['Weakness'][key]:\n",
    "            weak1.append(key)\n",
    "        elif '0.5' == data['Weakness'][key]:\n",
    "            weak05.append(key)\n",
    "        elif '0.25' == data['Weakness'][key]:\n",
    "            weak025.append(key)\n",
    "        elif '0' == data['Weakness'][key]:\n",
    "            weak0.append(key)\n",
    "\n",
    "    db_item['×4'] = '/'.join(weak4)\n",
    "    db_item['×2'] = '/'.join(weak2)\n",
    "    db_item['×0.5'] = '/'.join(weak05)\n",
    "    db_item['×0.25'] = '/'.join(weak025)\n",
    "    db_item['無効'] = '/'.join(weak0)\n",
    "\n",
    "    df_db = df_db.append(db_item, ignore_index=True)\n",
    "\n",
    "    # print(db_item)\n"
   ]
  },
  {
   "cell_type": "code",
   "execution_count": 41,
   "metadata": {},
   "outputs": [],
   "source": [
    "# df_db"
   ]
  }
 ],
 "metadata": {
  "interpreter": {
   "hash": "793c56368b4dd070e0941bd8d7fd7d9bf556cf621321468988dc402a5229e9d4"
  },
  "kernelspec": {
   "display_name": "Python 3.8.10 64-bit ('NLB_v1': conda)",
   "language": "python",
   "name": "python3"
  },
  "language_info": {
   "codemirror_mode": {
    "name": "ipython",
    "version": 3
   },
   "file_extension": ".py",
   "mimetype": "text/x-python",
   "name": "python",
   "nbconvert_exporter": "python",
   "pygments_lexer": "ipython3",
   "version": "3.8.10"
  },
  "orig_nbformat": 4
 },
 "nbformat": 4,
 "nbformat_minor": 2
}
