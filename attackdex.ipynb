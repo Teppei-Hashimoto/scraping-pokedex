{
 "cells": [
  {
   "cell_type": "code",
   "execution_count": null,
   "metadata": {},
   "outputs": [],
   "source": [
    "import requests\n",
    "from bs4 import BeautifulSoup\n",
    "import pickle\n",
    "import pandas as pd"
   ]
  },
  {
   "cell_type": "code",
   "execution_count": null,
   "metadata": {},
   "outputs": [],
   "source": [
    "# リンク一覧リスト\n",
    "atc_link = pickle.load(open('./attackdex_link_list.pkl', 'rb'))"
   ]
  },
  {
   "cell_type": "code",
   "execution_count": null,
   "metadata": {},
   "outputs": [],
   "source": [
    "# タイプ一覧データフレーム\n",
    "df_type = pd.read_csv('./type.csv')"
   ]
  },
  {
   "cell_type": "code",
   "execution_count": null,
   "metadata": {},
   "outputs": [],
   "source": [
    "# カテゴリー一覧データフレーム\n",
    "df_atc_cat = pd.read_csv('./attack_category.csv')"
   ]
  },
  {
   "cell_type": "code",
   "execution_count": null,
   "metadata": {},
   "outputs": [],
   "source": [
    "# 国別の技名一覧データフレーム\n",
    "df_atc_name = pd.read_csv('./attackdex_name.csv')"
   ]
  },
  {
   "cell_type": "code",
   "execution_count": null,
   "metadata": {},
   "outputs": [],
   "source": []
  },
  {
   "cell_type": "code",
   "execution_count": null,
   "metadata": {},
   "outputs": [],
   "source": [
    "# 初期化処理：アタックデックス用データフレームの生成\n",
    "df_attackdex = pd.DataFrame(columns=['English_name', 'Japanese_name', 'Type', 'Category', 'PP', 'Power', 'Accuracy'])"
   ]
  },
  {
   "cell_type": "code",
   "execution_count": null,
   "metadata": {},
   "outputs": [],
   "source": [
    "for atc_item in atc_link:\n",
    "    # ページ情報の取得\n",
    "    atc_url = f'https://www.serebii.net{atc_item}'\n",
    "    res = requests.get(atc_url)\n",
    "    soup = BeautifulSoup(res.text, 'html.parser')\n",
    "\n",
    "    # 英語名の取得\n",
    "    english_name = soup.select('.dextable td.cen')[0].contents[0].get_text(strip=True)\n",
    "\n",
    "    # 日本語名の取得（無い場合は空文字''が代入される）\n",
    "    japanese_name = soup.select('.dextable td.cen')[0].contents[2].get_text(strip=True)\n",
    "\n",
    "    # タイプの取得\n",
    "    type_link = soup.select('.dextable td.cen')[1].find('a').attrs['href'].split('/')[-1]\n",
    "    type_val = df_type.query(f'link_text == \"{type_link}\"')['japanese'].values[0]\n",
    "\n",
    "    # カテゴリーの取得\n",
    "    category_link = soup.select('.dextable td.cen')[2].find('a').attrs['href'].split('/')[-1]\n",
    "    category_val = df_atc_cat.query(f'link_text == \"{category_link}\"')['japanese'].values[0]\n",
    "\n",
    "    # PPの取得\n",
    "    pp_val = soup.select('.dextable td.cen')[3].get_text(strip=True)\n",
    "\n",
    "    # 威力の取得\n",
    "    power_val = soup.select('.dextable td.cen')[4].get_text(strip=True)\n",
    "\n",
    "    # 命中率の取得\n",
    "    accuracy_val = soup.select('.dextable td.cen')[5].get_text(strip=True)\n",
    "\n",
    "    # データフレームに追加\n",
    "    params = {\n",
    "        'English_name': english_name,\n",
    "        'Japanese_name': japanese_name,\n",
    "        'Type': type_val,\n",
    "        'Category': category_val,\n",
    "        'PP': pp_val,\n",
    "        'Power': power_val,\n",
    "        'Accuracy': accuracy_val\n",
    "    }\n",
    "    df_attackdex = df_attackdex.append(params, ignore_index=True)"
   ]
  },
  {
   "cell_type": "code",
   "execution_count": null,
   "metadata": {},
   "outputs": [],
   "source": []
  },
  {
   "cell_type": "code",
   "execution_count": null,
   "metadata": {},
   "outputs": [],
   "source": [
    "# 作成したアタックデックス用データフレームのコピーを作成（念のため）\n",
    "dfc_attackdex = df_attackdex.copy()"
   ]
  },
  {
   "cell_type": "code",
   "execution_count": null,
   "metadata": {},
   "outputs": [],
   "source": [
    "# 日本語の無い部分を補完\n",
    "# エラーが出た場合は手動で入力\n",
    "for i in dfc_attackdex[dfc_attackdex['Japanese_name'] == ''].index.tolist():\n",
    "    dfc_attackdex.loc[i, ['Japanese_name']] = df_atc_name.loc[df_atc_name['英語'] == dfc_attackdex.loc[i, ['English_name']].values[0], ['日本語']].values[0][0]"
   ]
  },
  {
   "cell_type": "code",
   "execution_count": null,
   "metadata": {},
   "outputs": [],
   "source": [
    "# 日本語名を手動で入力する方法\n",
    "# 技名参考サイト：https://wiki.xn--rckteqa2e.com/wiki/%E3%82%8F%E3%81%96%E3%81%AE%E5%A4%96%E5%9B%BD%E8%AA%9E%E5%90%8D%E4%B8%80%E8%A6%A7\n",
    "\n",
    "# dfc_attackdex.loc[インデックス, ['Japanese_name']] = '技名'\n",
    "# 例）dfc_attackdex.loc[415, ['Japanese_name']] = 'てんこがすめつぼうのひかり'"
   ]
  },
  {
   "cell_type": "code",
   "execution_count": null,
   "metadata": {},
   "outputs": [],
   "source": []
  },
  {
   "cell_type": "code",
   "execution_count": null,
   "metadata": {},
   "outputs": [],
   "source": [
    "# CSVに出力\n",
    "dfc_attackdex.to_csv('./attackdex.csv', index=False)"
   ]
  }
 ],
 "metadata": {
  "language_info": {
   "name": "python"
  },
  "orig_nbformat": 4
 },
 "nbformat": 4,
 "nbformat_minor": 2
}
