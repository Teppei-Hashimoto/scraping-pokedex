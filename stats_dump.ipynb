{
 "cells": [
  {
   "cell_type": "code",
   "execution_count": 1,
   "metadata": {},
   "outputs": [],
   "source": [
    "# import requests\n",
    "# from bs4 import BeautifulSoup\n",
    "import pandas as pd\n",
    "import pickle"
   ]
  },
  {
   "cell_type": "code",
   "execution_count": 2,
   "metadata": {},
   "outputs": [],
   "source": [
    "# 全ポケモンのURL一覧\n",
    "url_list = pickle.load(open('./all_gen_pokemon_urls.pkl', 'rb'))\n",
    "\n",
    "# # タイプ データフレーム\n",
    "# df_type = pd.read_csv('./type.csv')\n",
    "# # アタックデックス データフレーム\n",
    "# df_attackdex = pd.read_csv('./attackdex.csv')\n",
    "# # たまごグループ名\n",
    "# egg_groups_name = pickle.load(open('./egg_groups_name.pkl', 'rb'))\n",
    "# # 持ち物 データフレーム\n",
    "# df_holditem = pd.read_csv('./holditemdex.csv')"
   ]
  },
  {
   "cell_type": "code",
   "execution_count": 3,
   "metadata": {},
   "outputs": [],
   "source": [
    "from pymongo import MongoClient\n",
    "client = MongoClient()\n",
    "db = client['pokemon']"
   ]
  },
  {
   "cell_type": "code",
   "execution_count": 27,
   "metadata": {},
   "outputs": [
    {
     "data": {
      "text/html": [
       "<div>\n",
       "<style scoped>\n",
       "    .dataframe tbody tr th:only-of-type {\n",
       "        vertical-align: middle;\n",
       "    }\n",
       "\n",
       "    .dataframe tbody tr th {\n",
       "        vertical-align: top;\n",
       "    }\n",
       "\n",
       "    .dataframe thead th {\n",
       "        text-align: right;\n",
       "    }\n",
       "</style>\n",
       "<table border=\"1\" class=\"dataframe\">\n",
       "  <thead>\n",
       "    <tr style=\"text-align: right;\">\n",
       "      <th></th>\n",
       "      <th>No</th>\n",
       "      <th>pokemon</th>\n",
       "      <th>HP</th>\n",
       "      <th>Attack</th>\n",
       "      <th>Defense</th>\n",
       "      <th>Sp_Attack</th>\n",
       "      <th>Sp_Defense</th>\n",
       "      <th>Speed</th>\n",
       "      <th>Total</th>\n",
       "    </tr>\n",
       "  </thead>\n",
       "  <tbody>\n",
       "  </tbody>\n",
       "</table>\n",
       "</div>"
      ],
      "text/plain": [
       "Empty DataFrame\n",
       "Columns: [No, pokemon, HP, Attack, Defense, Sp_Attack, Sp_Defense, Speed, Total]\n",
       "Index: []"
      ]
     },
     "execution_count": 27,
     "metadata": {},
     "output_type": "execute_result"
    }
   ],
   "source": [
    "df_stats = pd.DataFrame(columns=['No', 'pokemon', 'HP', 'Attack', 'Defense', 'Sp_Attack', 'Sp_Defense', 'Speed', 'Total'])\n",
    "df_stats"
   ]
  },
  {
   "cell_type": "code",
   "execution_count": 29,
   "metadata": {},
   "outputs": [],
   "source": [
    "for pokemon in url_list:\n",
    "# for pokemon in url_list[385:386]:\n",
    "    data = db.all_gen_pokedex.find_one({\"English_name\": pokemon['English_name']})\n",
    "    if 'Stats' in data.keys():\n",
    "        for key in [key for key in data.keys() if 'Stats' in key]:\n",
    "            stats_data = {}\n",
    "            stats_data = data[key]\n",
    "            stats_data['No'] = data['No']\n",
    "            stats_data['pokemon'] = f'{data[\"Japanese_name\"]}{key.replace(\"Stats\", \"\")}'\n",
    "            df_stats = df_stats.append(stats_data, ignore_index=True)\n",
    "    "
   ]
  },
  {
   "cell_type": "code",
   "execution_count": 31,
   "metadata": {},
   "outputs": [],
   "source": [
    "# ファイルに出力\n",
    "df_stats.to_csv('./stats.csv', index=False)"
   ]
  },
  {
   "cell_type": "code",
   "execution_count": null,
   "metadata": {},
   "outputs": [],
   "source": []
  }
 ],
 "metadata": {
  "interpreter": {
   "hash": "793c56368b4dd070e0941bd8d7fd7d9bf556cf621321468988dc402a5229e9d4"
  },
  "kernelspec": {
   "display_name": "Python 3.8.10 64-bit ('NLB_v1': conda)",
   "language": "python",
   "name": "python3"
  },
  "language_info": {
   "codemirror_mode": {
    "name": "ipython",
    "version": 3
   },
   "file_extension": ".py",
   "mimetype": "text/x-python",
   "name": "python",
   "nbconvert_exporter": "python",
   "pygments_lexer": "ipython3",
   "version": "3.8.10"
  },
  "orig_nbformat": 4
 },
 "nbformat": 4,
 "nbformat_minor": 2
}
