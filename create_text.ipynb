{
 "cells": [
  {
   "cell_type": "code",
   "execution_count": null,
   "metadata": {},
   "outputs": [],
   "source": [
    "import pickle\n",
    "import pandas as pd"
   ]
  },
  {
   "cell_type": "code",
   "execution_count": null,
   "metadata": {},
   "outputs": [],
   "source": [
    "pokemon_list = pickle.load(open('./pokedex_name_list.pkl', 'rb'))"
   ]
  },
  {
   "cell_type": "code",
   "execution_count": null,
   "metadata": {},
   "outputs": [],
   "source": [
    "df_type = pd.read_csv('./type.csv')"
   ]
  },
  {
   "cell_type": "code",
   "execution_count": null,
   "metadata": {},
   "outputs": [],
   "source": [
    "df_attackdex = pd.read_csv('./attackdex.csv')"
   ]
  },
  {
   "cell_type": "code",
   "execution_count": null,
   "metadata": {},
   "outputs": [],
   "source": [
    "from pymongo import MongoClient\n",
    "client = MongoClient()\n",
    "db = client['pokemon']"
   ]
  },
  {
   "cell_type": "code",
   "execution_count": null,
   "metadata": {},
   "outputs": [],
   "source": []
  },
  {
   "cell_type": "code",
   "execution_count": null,
   "metadata": {},
   "outputs": [],
   "source": [
    "# 関数定義：レベル技のレベル値を変換する関数\n",
    "def level_val(level):\n",
    "    if level == '—':\n",
    "        return '基本'\n",
    "    elif level == 'Evolve':\n",
    "        return '進化時'\n",
    "        \n",
    "    return level"
   ]
  },
  {
   "cell_type": "code",
   "execution_count": null,
   "metadata": {},
   "outputs": [],
   "source": []
  },
  {
   "cell_type": "code",
   "execution_count": null,
   "metadata": {},
   "outputs": [],
   "source": [
    "for pokemon in pokemon_list[:494]:\n",
    "    pokemon = pokemon.replace(' ', '')\n",
    "    level_up_text_list = []\n",
    "    if 'Level_up_attacks' in db.pokedex.find_one({\"English_name\": pokemon}).keys():\n",
    "        for attack in db.pokedex.find_one({'English_name': pokemon})['Level_up_attacks']:\n",
    "\n",
    "            s_attackdex = df_attackdex[df_attackdex['English_name'] == attack['English_name']]\n",
    "            level = level_val(attack['Level'])\n",
    "            name = attack['Japanese_name']\n",
    "            type_val = s_attackdex['Type'].values[0]\n",
    "            category = s_attackdex['Category'].values[0]\n",
    "            power = s_attackdex['Power'].values[0]\n",
    "\n",
    "            level_up_text_list.append(f'|{level}|{name}|{type_val}|{category}|{power}|')\n",
    "\n",
    "    tech_machine_text_list = []\n",
    "    if 'Technical_machine_attacks' in db.pokedex.find_one({'English_name': pokemon}).keys():\n",
    "        for attack in db.pokedex.find_one({'English_name': pokemon})['Technical_machine_attacks']:\n",
    "\n",
    "            s_attackdex = df_attackdex[df_attackdex['English_name'] == attack['English_name']]\n",
    "            no = attack['No']\n",
    "            name = attack['Japanese_name']\n",
    "            type_val = s_attackdex['Type'].values[0]\n",
    "            category = s_attackdex['Category'].values[0]\n",
    "            power = s_attackdex['Power'].values[0]\n",
    "\n",
    "            tech_machine_text_list.append(f'|{no}|{name}|{type_val}|{category}|{power}|')\n",
    "\n",
    "    egg_text_list = []\n",
    "    if 'Egg_attacks' in db.pokedex.find_one({'English_name': pokemon}).keys():\n",
    "        for attack in db.pokedex.find_one({'English_name': pokemon})['Egg_attacks']:\n",
    "\n",
    "            s_attackdex = df_attackdex[df_attackdex['English_name'] == attack['English_name']]\n",
    "            name = attack['Japanese_name']\n",
    "            type_val = s_attackdex['Type'].values[0]\n",
    "            category = s_attackdex['Category'].values[0]\n",
    "            power = s_attackdex['Power'].values[0]\n",
    "\n",
    "            egg_text_list.append(f'|{name}|{type_val}|{category}|{power}|')\n",
    "\n",
    "    with open(f'./pokemon/{db.pokedex.find_one({\"English_name\": pokemon})[\"Japanese_name\"]}.txt', 'a') as f:\n",
    "        f.write('＊＊＊　レベルで覚える技　＊＊＊\\n')\n",
    "        f.write('|FILTER:T:100%13%CENTER:|32%CENTER|20%CENTER|CENTER:|CENTER:|c\\n')\n",
    "        f.write('|Lv|技名|タイプ|分類|威力|h\\n')\n",
    "        f.write('\\n'.join(level_up_text_list))\n",
    "        f.write('\\n＊＊＊＊＊＊＊＊＊＊＊＊＊＊＊＊')\n",
    "        f.write('\\n\\n')\n",
    "        f.write('＊＊＊　技マシンで覚える技　＊＊＊\\n')\n",
    "        f.write('|FILTER:T:100%13%CENTER:|32%CENTER|20%CENTER|CENTER:|CENTER:|c\\n')\n",
    "        f.write('|No|技名|タイプ|分類|威力|h\\n')\n",
    "        f.write('\\n'.join(tech_machine_text_list))\n",
    "        f.write('\\n＊＊＊＊＊＊＊＊＊＊＊＊＊＊＊＊＊')\n",
    "        f.write('\\n\\n')\n",
    "        f.write('＊＊＊＊＊　たまご技　＊＊＊＊＊\\n')\n",
    "        f.write('|FILTER:T:100%35%CENTER|22%CENTER|20%CENTER:|62%CENTER:|c\\n')\n",
    "        f.write('|技名|タイプ|分類|威力|h\\n')\n",
    "        f.write('\\n'.join(egg_text_list))\n",
    "        f.write('\\n＊＊＊＊＊＊＊＊＊＊＊＊＊＊＊＊')"
   ]
  },
  {
   "cell_type": "code",
   "execution_count": null,
   "metadata": {},
   "outputs": [],
   "source": []
  }
 ],
 "metadata": {
  "language_info": {
   "name": "python"
  },
  "orig_nbformat": 4
 },
 "nbformat": 4,
 "nbformat_minor": 2
}
